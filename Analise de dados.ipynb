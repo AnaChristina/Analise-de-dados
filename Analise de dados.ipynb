{
 "cells": [
  {
   "cell_type": "code",
   "execution_count": 2,
   "id": "bd8f5fe1",
   "metadata": {},
   "outputs": [],
   "source": [
    "#Analise de dados publicos"
   ]
  },
  {
   "cell_type": "code",
   "execution_count": 4,
   "id": "4cc88dc0",
   "metadata": {},
   "outputs": [],
   "source": [
    "import pandas as pd\n",
    "low_memory = False #para carregar o arquivo mais rapido.\n",
    "import matplotlib.pyplot as plt\n",
    "%matplotlib inline\n",
    "pd.options.display.max_columns=80\n",
    "pd.options.display.max_rows = 90"
   ]
  },
  {
   "cell_type": "code",
   "execution_count": 5,
   "id": "9b7f7ba9",
   "metadata": {},
   "outputs": [
    {
     "name": "stderr",
     "output_type": "stream",
     "text": [
      "c:\\users\\caio mozaos2\\appdata\\local\\programs\\python\\python38\\lib\\site-packages\\IPython\\core\\interactiveshell.py:3169: DtypeWarning: Columns (115) have mixed types.Specify dtype option on import or set low_memory=False.\n",
      "  has_raised = await self.run_ast_nodes(code_ast.body, cell_name,\n"
     ]
    }
   ],
   "source": [
    "arquivo = r'C:\\Users\\Caio mozaos2\\COVID\\INFLUD-21-06-2021.csv' #lendo arquivo\n",
    "df = pd.read_csv(arquivo, delimiter=';', \n",
    "                 usecols='CS_RACA CS_ESCOL_N SEM_NOT DT_NOTIFIC SG_UF_NOT HISTO_VGM PAIS_VGM CARDIOPATI DIABETES OBESIDADE NU_IDADE_N ID_MUNICIP'.split(),\n",
    "                 encoding='ISO-8859-1',\n",
    "                 error_bad_lines=False) #para n abortar a leitura caso erro de colunas."
   ]
  },
  {
   "cell_type": "code",
   "execution_count": 8,
   "id": "f527f973",
   "metadata": {},
   "outputs": [
    {
     "name": "stdout",
     "output_type": "stream",
     "text": [
      "(0, 'DT_NOTIFIC')\n",
      "(1, 'SEM_NOT')\n",
      "(2, 'SG_UF_NOT')\n",
      "(3, 'ID_MUNICIP')\n",
      "(4, 'NU_IDADE_N')\n",
      "(5, 'CS_RACA')\n",
      "(6, 'CS_ESCOL_N')\n",
      "(7, 'CARDIOPATI')\n",
      "(8, 'DIABETES')\n",
      "(9, 'OBESIDADE')\n",
      "(10, 'HISTO_VGM')\n",
      "(11, 'PAIS_VGM')\n"
     ]
    }
   ],
   "source": [
    "for par in enumerate(df.columns): print (par)"
   ]
  },
  {
   "cell_type": "code",
   "execution_count": 9,
   "id": "eb50b52f",
   "metadata": {},
   "outputs": [],
   "source": [
    "troca_raça = {1:'Branca', 2:'Preta', 3:'Amarela', #trocando valores de acordo com o dicionario, cada numero representa uma raça.\n",
    "              4:'Parda', 5:'Indígena', 9:'Ignorado'}"
   ]
  },
  {
   "cell_type": "code",
   "execution_count": 10,
   "id": "0e8eb18c",
   "metadata": {},
   "outputs": [],
   "source": [
    "                                                                         "
   ]
  },
  {
   "cell_type": "code",
   "execution_count": 60,
   "id": "673c7dd6",
   "metadata": {},
   "outputs": [
    {
     "data": {
      "text/plain": [
       "<AxesSubplot:xlabel='SEM_NOT'>"
      ]
     },
     "execution_count": 60,
     "metadata": {},
     "output_type": "execute_result"
    },
    {
     "data": {
      "image/png": "[encoded data removed]",
      "text/plain": [
       "<Figure size 432x288 with 1 Axes>"
      ]
     },
     "metadata": {
      "needs_background": "light"
     },
     "output_type": "display_data"
    }
   ],
   "source": [
    "df.query('ID_MUNICIP == \"SAO JOSE DOS CAMPOS\"').groupby('SEM_NOT').size().plot(kind='bar', color='coral')"
   ]
  },
  {
   "cell_type": "code",
   "execution_count": 18,
   "id": "f9a67ab9",
   "metadata": {},
   "outputs": [
    {
     "data": {
      "text/plain": [
       "611394"
      ]
     },
     "execution_count": 18,
     "metadata": {},
     "output_type": "execute_result"
    }
   ],
   "source": [
    "df.query('NU_IDADE_N >= 60')['NU_IDADE_N'].count() #Pessoas que tem 60 ou +."
   ]
  },
  {
   "cell_type": "code",
   "execution_count": 36,
   "id": "a057b4cf",
   "metadata": {},
   "outputs": [
    {
     "data": {
      "text/plain": [
       "<AxesSubplot:xlabel='SG_UF_NOT'>"
      ]
     },
     "execution_count": 36,
     "metadata": {},
     "output_type": "execute_result"
    },
    {
     "data": {
      "image/png": "[encoded data removed]",
      "text/plain": [
       "<Figure size 432x288 with 1 Axes>"
      ]
     },
     "metadata": {
      "needs_background": "light"
     },
     "output_type": "display_data"
    }
   ],
   "source": [
    "df.query('NU_IDADE_N == 60').groupby('SG_UF_NOT').size().plot(kind='bar',color='Orange') #Pessoas com 60 anos por estado. "
   ]
  },
  {
   "cell_type": "code",
   "execution_count": 47,
   "id": "42141447",
   "metadata": {},
   "outputs": [
    {
     "data": {
      "text/plain": [
       "SG_UF_NOT\n",
       "SP    1979\n",
       "dtype: int64"
      ]
     },
     "execution_count": 47,
     "metadata": {},
     "output_type": "execute_result"
    }
   ],
   "source": [
    "df.query('NU_IDADE_N == 60 and SG_UF_NOT == \"SP\" and DIABETES == 1').groupby('SG_UF_NOT').size().sort_values(ascending=False).head(10) #pessoas com 60 anos em SP com diabetes;"
   ]
  },
  {
   "cell_type": "code",
   "execution_count": 50,
   "id": "4d0bf24d",
   "metadata": {},
   "outputs": [
    {
     "data": {
      "text/plain": [
       "SG_UF_NOT\n",
       "SP    3\n",
       "dtype: int64"
      ]
     },
     "execution_count": 50,
     "metadata": {},
     "output_type": "execute_result"
    }
   ],
   "source": [
    "df.query('NU_IDADE_N == 60 and SG_UF_NOT == \"SP\" and HISTO_VGM == 1').groupby('SG_UF_NOT').size().sort_values(ascending=False).head(10) #pessoas com 60 anos em SP com diabetes;"
   ]
  },
  {
   "cell_type": "code",
   "execution_count": 58,
   "id": "e41e4c2d",
   "metadata": {},
   "outputs": [
    {
     "data": {
      "text/plain": [
       "<AxesSubplot:ylabel='PAIS_VGM'>"
      ]
     },
     "execution_count": 58,
     "metadata": {},
     "output_type": "execute_result"
    },
    {
     "data": {
      "image/png": "[encoded data removed]",
      "text/plain": [
       "<Figure size 432x288 with 1 Axes>"
      ]
     },
     "metadata": {
      "needs_background": "light"
     },
     "output_type": "display_data"
    }
   ],
   "source": [
    "df.query('HISTO_VGM == 1 and PAIS_VGM != \"BRASIL\"').groupby('PAIS_VGM').size().sort_values(ascending=False).head(10).plot(kind='barh', color='purple')"
   ]
  },
  {
   "cell_type": "code",
   "execution_count": null,
   "id": "1704b539",
   "metadata": {},
   "outputs": [],
   "source": []
  }
 ],
 "metadata": {
  "kernelspec": {
   "display_name": "Python 3",
   "language": "python",
   "name": "python3"
  },
  "language_info": {
   "codemirror_mode": {
    "name": "ipython",
    "version": 3
   },
   "file_extension": ".py",
   "mimetype": "text/x-python",
   "name": "python",
   "nbconvert_exporter": "python",
   "pygments_lexer": "ipython3",
   "version": "3.8.10"
  }
 },
 "nbformat": 4,
 "nbformat_minor": 5
}
